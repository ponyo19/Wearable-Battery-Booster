{
 "cells": [
  {
   "cell_type": "code",
   "execution_count": 2,
   "metadata": {},
   "outputs": [],
   "source": [
    "import numpy as np\n",
    "import matplotlib.pyplot as plt"
   ]
  },
  {
   "cell_type": "markdown",
   "metadata": {},
   "source": [
    "We adopt the design of a pendulum swinging as a consequence of the headset moving.\n",
    "We use the rotational movement of the pendulum to drive a dc motor that in turn generates current. The alternating current from the motor will be rectified and the voltage stepped up by an integrated circuit.\n",
    "\n",
    "In this notebook we find the appropriate gearing ratio for the motor.\n",
    "Essentially, the gearing ratio influences the torque applied by the pendulum that is needed to turn the motor shaft. The torque applied is proportional to the distance D of the pendulums center of mass from the axis of rotation and the total mass M of the pendulum. The distance of the center of mass is constrained by the requirement that the system should mount to the headset. The mass of the pendulum is constrained to satisfy the wearers comfort. The system should not exceed a certain max weight.\n",
    "\n",
    "Let us denote D_max and M_max as the maximum values that still satisfy our constraints.\n",
    "\n",
    "The gearing ratio should be such that the forces on the pendulum can make the motor turn. To determine this ratio we first need to concider the forces on the pendulum.\n",
    "Naturally, the question arises which type of forces we should pick. Is the wearer stationary, walking, running or driving. If he is stationary there still might be rotatinal movements accounting for the wearer looking around. This concideration is neccessary because there is a tradeoff between high and low gearing ratio. When the ratio is high the forces required to turn the motor need to be high, but in this case also the power output will be high. On the other hand a high gearing ratio would produce no power in a scenario where the forces are not high enough to turn the motor. I.e. the optimal gearing ratio in a running scenario can be different to that of a stationary or walking scenario. To make the system as general as possible we need to design it so that it generates power in every scenario. Howerver, it should be noted that there is room for optimization in the space of dynamically changing the gearing ratio.\n",
    "\n",
    "To facilitate power generation in every scenario we should pick a gearing ratio so that event the weakest of concidered forces are able to turn the motor. Which force force to concider is somewhat arbitrary but let us compare the following forces:\n",
    "* 1) The force of gravity on the pendulum. This force applies to the pendulum whenever the lever arm is not vertical. \n",
    "* 2) The inertial forces resulting from walking.\n",
    "We will examine realistic scenarios about these use cases and determine the forces (1) and (2) arising in these. We will then pick the smaller of these forces to determine the gearing ratio.\n",
    "\n",
    "Scenario 1.\n",
    "A person that is standing still and looking around.\n",
    "The pendulum will be installed so that the axis of rotation is to the right (or left) from the direction that the wearer is facing. Let us assume that the wearers head tilts up and down from dead center by about 15 degrees. The forces due to gravity at a tilt of 15 degrees can be calculated using trigonometry."
   ]
  },
  {
   "cell_type": "code",
   "execution_count": 37,
   "metadata": {},
   "outputs": [
    {
     "name": "stdout",
     "output_type": "stream",
     "text": [
      "Force due to gravity at 10 degrees tilt:  0.08508760705679587 N\n",
      "Force due to acceleration:  0.1 N\n",
      "The force that should be able to turn the motor:  0.08508760705679587 N\n"
     ]
    }
   ],
   "source": [
    "# A pendulum that satisfies the design requirements.\n",
    "M = 0.05 # Total mass of the pendulum is 50 grams.\n",
    "D = 0.03 # Distance from the pivot to the center of mass is 3 cm.\n",
    "\n",
    "# Scenario 1.\n",
    "# A person that is standing still and looking around.\n",
    "# The pendulum will be installed so that the axis of rotation is to the right (or left) \n",
    "# from the direction that the wearer is facing. Let us assume that the wearers head \n",
    "# tilts up and down from dead center by about 10 degrees. \n",
    " \n",
    "# The forces due to gravity at a tilt of 10 degrees can be calculated using trigonometry.\n",
    "f_rotational = 9.8 * np.sin(np.deg2rad(10)) * M\n",
    "print(\"Force due to gravity at 10 degrees tilt: \", f_rotational, \"N\")\n",
    "\n",
    "# Scenario 2.\n",
    "# A person that is walking and facing straight ahead.\n",
    "# The pendulum will be installed so that the axis of rotation is to the right (or left)\n",
    "# from the direction that the wearer is facing.\n",
    "# From our head movement measurements we know that the forward acceleration of the head while walking is regularly about 1 m/s^2.\n",
    "# The force applies to pivot of the pendulum. The effective torque is equal to that that would arise from a force of M * -1 m/s^2 acting on the pendulum mass.\n",
    "# The magnitude of the force is M * 1 m/s^2, where M is the mass of the pendulum.\n",
    "f_inertial = M * 2\n",
    "print(\"Force due to acceleration: \", f_inertial, \"N\")\n",
    "\n",
    "F = min(f_rotational, f_inertial)\n",
    "print(\"The force that should be able to turn the motor: \", F, \"N\")"
   ]
  },
  {
   "cell_type": "code",
   "execution_count": 38,
   "metadata": {},
   "outputs": [
    {
     "name": "stdout",
     "output_type": "stream",
     "text": [
      "Torque without gearing:  0.00031360000000000003\n",
      "Max gearing ratio:  8.13975832813736\n"
     ]
    }
   ],
   "source": [
    "# Now we will determine a suitable gearing ratio for the pendulum that is compatible with a force of 0.1 N.\n",
    "\n",
    "# We have a DC motor with an attached gearbox with a 50:1 ratio and we determined the necessary torque experimentally.\n",
    "# Rudimentary setup with a scale that showed 20 g of weight with an 8 cm lever arm.\n",
    "geared_torque = 0.08 * 0.02 * 9.8\n",
    "ungeared_torque = geared_torque / 50\n",
    "print(\"Torque without gearing: \", ungeared_torque)\n",
    "\n",
    "\n",
    "# We want to find the highest gearing ratio for which F can still turn the motor.\n",
    "# Torque = ungeared_torque * gearing_ratio = F * D \n",
    "# gearing_ratio = F * D / ungeared_torque\n",
    "max_gearing_ratio = F * D / ungeared_torque\n",
    "print(\"Max gearing ratio: \", max_gearing_ratio)"
   ]
  },
  {
   "cell_type": "code",
   "execution_count": null,
   "metadata": {},
   "outputs": [],
   "source": []
  }
 ],
 "metadata": {
  "kernelspec": {
   "display_name": "venv",
   "language": "python",
   "name": "venv"
  },
  "language_info": {
   "codemirror_mode": {
    "name": "ipython",
    "version": 3
   },
   "file_extension": ".py",
   "mimetype": "text/x-python",
   "name": "python",
   "nbconvert_exporter": "python",
   "pygments_lexer": "ipython3",
   "version": "3.12.4"
  }
 },
 "nbformat": 4,
 "nbformat_minor": 2
}
